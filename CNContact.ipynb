{
  "cells": [
    {
      "cell_type": "markdown",
      "source": [
        "# CNContact\n",
        "## 1. Phone\n",
        "### 1.1 联系方式的变种类型\n",
        "基于[不同数字的对应映射列表梳理](https://shimo.im/docs/QxXWKVhvPGHDpk9c)，将变种联系方式先清理为标准数字格式。"
      ],
      "metadata": {}
    },
    {
      "cell_type": "code",
      "source": [
        "import re\n",
        "re.search(r'1(3|4|5|7|8|9)\\d{9}', 'My number is 19488895246.').group()"
      ],
      "outputs": [
        {
          "output_type": "execute_result",
          "execution_count": 48,
          "data": {
            "text/plain": [
              "'19488895246'"
            ]
          },
          "metadata": {}
        }
      ],
      "execution_count": 48,
      "metadata": {
        "collapsed": false,
        "outputHidden": false,
        "inputHidden": false
      }
    }
  ],
  "metadata": {
    "kernelspec": {
      "name": "python3",
      "language": "python",
      "display_name": "Python 3"
    },
    "language_info": {
      "name": "python",
      "version": "3.6.6",
      "mimetype": "text/x-python",
      "codemirror_mode": {
        "name": "ipython",
        "version": 3
      },
      "pygments_lexer": "ipython3",
      "nbconvert_exporter": "python",
      "file_extension": ".py"
    },
    "kernel_info": {
      "name": "python3"
    },
    "nteract": {
      "version": "0.12.3"
    }
  },
  "nbformat": 4,
  "nbformat_minor": 0
}